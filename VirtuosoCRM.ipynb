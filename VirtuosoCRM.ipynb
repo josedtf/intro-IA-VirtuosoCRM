{
  "nbformat": 4,
  "nbformat_minor": 0,
  "metadata": {
    "colab": {
      "provenance": []
    },
    "kernelspec": {
      "name": "python3",
      "display_name": "Python 3"
    },
    "language_info": {
      "name": "python"
    }
  },
  "cells": [
    {
      "cell_type": "markdown",
      "source": [
        "VirtuosoCRM es un asistente inteligente para un CRM de una agencia de viajes, este se encarga de estudiar los comportamientos de los clientes, productos y ventas. Se encarga de recoger esa información y mandarla a los trabajadores del CRM para que se les pueda brindar una mejor experiencia a los usuarios, ya que este les propone a los trabajadores acciones para mejorar el rendimiento y la satisfacción del cliente."
      ],
      "metadata": {
        "id": "jvu9yCUj-tFE"
      }
    },
    {
      "cell_type": "code",
      "execution_count": null,
      "metadata": {
        "id": "XvSZDya69oR0"
      },
      "outputs": [],
      "source": []
    }
  ]
}